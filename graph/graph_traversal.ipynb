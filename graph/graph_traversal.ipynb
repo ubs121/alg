{
 "cells": [
  {
   "cell_type": "code",
   "execution_count": 1,
   "metadata": {},
   "outputs": [],
   "source": [
    "from collections import deque\n",
    "\n",
    "# G - a graph represented using adjacency sets\n",
    "def bfs(G, source):\n",
    "    '''Iterative Breath First Search (BFS)'''\n",
    "    parent, Q = {source:None}, deque([source])\n",
    "    while Q:\n",
    "        u=Q.popleft() # dequeue\n",
    "        #print(\"at \", u)\n",
    "        for v in G[u]:\n",
    "            if v in parent: continue # already has parent\n",
    "            parent[v]=u\n",
    "            Q.append(v)\n",
    "    return parent"
   ]
  },
  {
   "cell_type": "code",
   "execution_count": 2,
   "metadata": {},
   "outputs": [
    {
     "name": "stdout",
     "output_type": "stream",
     "text": [
      "Run BFS(G,0): \n",
      "0 <- None\n",
      "1 <- 0\n",
      "2 <- 0\n",
      "3 <- 2\n"
     ]
    }
   ],
   "source": [
    "if __name__ == '__main__':\n",
    "    source=0\n",
    "    G = {0: [1, 2], 1: [2], 2: [3], 3: [1, 2]}\n",
    "    # TODO: visualize G\n",
    "    print(f\"Run BFS(G,{source}): \")\n",
    "    route=bfs(G, source)\n",
    "    for key in route:\n",
    "        print(key,\"<-\", route[key])"
   ]
  },
  {
   "cell_type": "code",
   "execution_count": null,
   "metadata": {},
   "outputs": [],
   "source": [
    "def dfs(G, source):\n",
    "    '''Iterative Depth-First Search (DFS)'''\n",
    "    visited, Q = set(), []\n",
    "    Q.append(source)\n",
    "    while Q:\n",
    "        u = Q.pop() # \n",
    "        if u in visited: continue\n",
    "        \n",
    "        print(\"at \", u)\n",
    "        visited.add(u)\n",
    "        Q.extend(G[u])"
   ]
  },
  {
   "cell_type": "code",
   "execution_count": null,
   "metadata": {},
   "outputs": [
    {
     "name": "stdout",
     "output_type": "stream",
     "text": [
      "Run DFS(G,0): \n",
      "at  0\n",
      "at  2\n",
      "at  3\n",
      "at  1\n"
     ]
    }
   ],
   "source": [
    "if __name__ == '__main__':\n",
    "    source=0\n",
    "    G = {0: [1, 2], 1: [2], 2: [3], 3: [1, 2]}\n",
    "    print(f\"Run DFS(G,{source}): \")\n",
    "    dfs(G, source)"
   ]
  },
  {
   "cell_type": "code",
   "execution_count": null,
   "metadata": {},
   "outputs": [],
   "source": [
    "# general graph traverse\n",
    "def traverse(G, source):\n",
    "    visited, Q = set(), set()\n",
    "    Q.add(source)\n",
    "    while Q:\n",
    "        u = Q.pop()\n",
    "        if u in visited: continue\n",
    "        visited.add(u)\n",
    "        for v in G[u]:\n",
    "            Q.add(v)"
   ]
  }
 ],
 "metadata": {
  "kernelspec": {
   "display_name": "Python 3.11.0b3 64-bit",
   "language": "python",
   "name": "python3"
  },
  "language_info": {
   "codemirror_mode": {
    "name": "ipython",
    "version": 3
   },
   "file_extension": ".py",
   "mimetype": "text/x-python",
   "name": "python",
   "nbconvert_exporter": "python",
   "pygments_lexer": "ipython3",
   "version": "3.10.4"
  },
  "orig_nbformat": 4,
  "vscode": {
   "interpreter": {
    "hash": "949777d72b0d2535278d3dc13498b2535136f6dfe0678499012e853ee9abcab1"
   }
  }
 },
 "nbformat": 4,
 "nbformat_minor": 2
}
