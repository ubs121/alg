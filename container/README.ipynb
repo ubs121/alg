{
 "cells": [
  {
   "cell_type": "markdown",
   "metadata": {},
   "source": [
    "## Lists"
   ]
  },
  {
   "cell_type": "code",
   "execution_count": null,
   "metadata": {},
   "outputs": [],
   "source": [
    "nums = [1,2,3]\n",
    "\n",
    "nums.index(1) # returns index\n",
    "nums.append(1) # appends 1\n",
    "nums.insert(0,10) # inserts 10 at 0th index\n",
    "nums.remove(3) # removes all instances of 3\n",
    "nums.copy() # returns copy of the list\n",
    "nums.count(1) # returns no.of times '1' is present in the list\n",
    "\n",
    "\n",
    "nums.pop() # pops last element [which element to pop can also be given as optional argument]\n",
    "nums.reverse() # reverses original list (nums in this case)\n",
    "nums.sort() # sorts list. Default sort uses Tim Sort, which is a combination of both merge sort and insertion sort.\n",
    "\n",
    "someOtherList=[4,5,6]\n",
    "nums.extend(someOtherList) # ..."
   ]
  },
  {
   "cell_type": "markdown",
   "metadata": {},
   "source": [
    "## List and Slicing"
   ]
  },
  {
   "cell_type": "code",
   "execution_count": null,
   "metadata": {},
   "outputs": [],
   "source": [
    "a=[1,2,3,4,5]\n",
    "start=0\n",
    "stop=3\n",
    "a[start:stop]  # items start through stop-1\n",
    "a[start:]      # items start through the rest of the array\n",
    "a[:stop]       # items from the beginning through stop-1\n",
    "a[:]           # a copy of the whole array\n",
    "\n",
    "step=2\n",
    "a[start:stop:step] # start through not past stop, by step\n",
    "# a[start:stop:step] is equivalent to a[slice(start, stop, step)]\n",
    "\n",
    "a[-1]    # last item in the array\n",
    "a[-2:]   # last two items in the array\n",
    "a[:-2]   # everything except the last two items"
   ]
  },
  {
   "cell_type": "markdown",
   "metadata": {},
   "source": [
    "## Dictionary"
   ]
  },
  {
   "cell_type": "code",
   "execution_count": 3,
   "metadata": {},
   "outputs": [
    {
     "name": "stdout",
     "output_type": "stream",
     "text": [
      "1\n",
      "2\n",
      "0\n"
     ]
    }
   ],
   "source": [
    "from collections import defaultdict\n",
    "  \n",
    "# Function to return a default values for keys that is not present\n",
    "def def_value():\n",
    "    return 0\n",
    "      \n",
    "# Defining the dict\n",
    "d = defaultdict(def_value)\n",
    "d[\"a\"] = 1\n",
    "d[\"b\"] = 2\n",
    "  \n",
    "print(d[\"a\"])\n",
    "print(d[\"b\"])\n",
    "print(d[\"c\"])"
   ]
  },
  {
   "cell_type": "markdown",
   "metadata": {},
   "source": [
    "## Heapq"
   ]
  },
  {
   "cell_type": "code",
   "execution_count": 2,
   "metadata": {},
   "outputs": [
    {
     "data": {
      "text/plain": [
       "1"
      ]
     },
     "execution_count": 2,
     "metadata": {},
     "output_type": "execute_result"
    }
   ],
   "source": [
    "import heapq \n",
    "# By default heapq is min heap\n",
    "# if we want to use max, the easiest solution is to multiply the values by -1\n",
    "\n",
    "nums = [5, 7, 9, 1, 3]\n",
    "\n",
    "heapq.heapify(nums) # converts list into heap. Can be converted back to list by list(nums).\n",
    "heapq.heappush(nums,11) # Push an element into the heap\n",
    "heapq.heappop(nums) # Pop an element from the heap. "
   ]
  },
  {
   "cell_type": "markdown",
   "metadata": {},
   "source": [
    "## Sets"
   ]
  },
  {
   "cell_type": "code",
   "execution_count": null,
   "metadata": {},
   "outputs": [],
   "source": [
    "set = {1,2,3}\n",
    "anotherSet = {4, 5, 6}\n",
    "\n",
    "item=4\n",
    "set.add(item)\n",
    "set.remove(item)\n",
    "set.pop() # removes random item (since unordered)\n",
    "\n",
    "set.isdisjoint(anotherSet) # returns true if no common elements\n",
    "set.issubset(anotherSet) # returns true if all elements from anotherSet is present in original set\n",
    "set.issuperset(anotherSet) # returns true if all elements from original set is present in anotherSet\n",
    "\n",
    "set.difference(anotherSet) # returns set containing items ONLY in first set\n",
    "set.difference_update(anotherSet) # removes common elements from first set [no new set is created or returned]\n",
    "set.intersection(anotherSet) # returns new set with common elements\n",
    "set.intersection_update(anotherSet) # modifies first set keeping only common elements\n",
    "set.symmetric_difference(anotherSet) # returns set containing all non-common elements of both sets\n",
    "set.symmetric_difference_update(anotherSet) # same as symmetric_difference but changes are made on original set\n",
    "\n",
    "set.union(anotherSet) # ...\n",
    "set.update(anotherSet) # adds anotherSet without duplicate"
   ]
  }
 ],
 "metadata": {
  "kernelspec": {
   "display_name": "Python 3",
   "language": "python",
   "name": "python3"
  },
  "language_info": {
   "codemirror_mode": {
    "name": "ipython",
    "version": 3
   },
   "file_extension": ".py",
   "mimetype": "text/x-python",
   "name": "python",
   "nbconvert_exporter": "python",
   "pygments_lexer": "ipython3",
   "version": "3.11.0"
  },
  "orig_nbformat": 4,
  "vscode": {
   "interpreter": {
    "hash": "aee8b7b246df8f9039afb4144a1f6fd8d2ca17a180786b69acc140d282b71a49"
   }
  }
 },
 "nbformat": 4,
 "nbformat_minor": 2
}
