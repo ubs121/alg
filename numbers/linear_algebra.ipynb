{
 "cells": [
  {
   "cell_type": "code",
   "execution_count": 2,
   "metadata": {},
   "outputs": [
    {
     "ename": "ModuleNotFoundError",
     "evalue": "No module named 'numpy'",
     "output_type": "error",
     "traceback": [
      "\u001b[0;31m---------------------------------------------------------------------------\u001b[0m",
      "\u001b[0;31mModuleNotFoundError\u001b[0m                       Traceback (most recent call last)",
      "\u001b[1;32m/Users/USukhbaat/src/alg/numbers/linear_algebra.ipynb Cell 1'\u001b[0m in \u001b[0;36m<cell line: 1>\u001b[0;34m()\u001b[0m\n\u001b[0;32m----> <a href='vscode-notebook-cell:/Users/USukhbaat/src/alg/numbers/linear_algebra.ipynb#ch0000000?line=0'>1</a>\u001b[0m \u001b[39mimport\u001b[39;00m \u001b[39mnumpy\u001b[39;00m \u001b[39mas\u001b[39;00m \u001b[39mnp\u001b[39;00m\n\u001b[1;32m      <a href='vscode-notebook-cell:/Users/USukhbaat/src/alg/numbers/linear_algebra.ipynb#ch0000000?line=2'>3</a>\u001b[0m \u001b[39m# vector addition\u001b[39;00m\n\u001b[1;32m      <a href='vscode-notebook-cell:/Users/USukhbaat/src/alg/numbers/linear_algebra.ipynb#ch0000000?line=3'>4</a>\u001b[0m v1\u001b[39m=\u001b[39mnp\u001b[39m.\u001b[39marray([\u001b[39m1\u001b[39m,\u001b[39m2\u001b[39m,\u001b[39m3\u001b[39m,\u001b[39m4\u001b[39m])\n",
      "\u001b[0;31mModuleNotFoundError\u001b[0m: No module named 'numpy'"
     ]
    }
   ],
   "source": [
    "import numpy as np\n",
    "\n",
    "# vector addition\n",
    "v1=np.array([1,2,3,4])\n",
    "v2=np.array([5,6,7,8])\n",
    "print(v1+v2)"
   ]
  },
  {
   "cell_type": "markdown",
   "metadata": {},
   "source": [
    "Determinant is volume. Determinant is the product of eigenvalues"
   ]
  },
  {
   "cell_type": "code",
   "execution_count": 4,
   "metadata": {},
   "outputs": [
    {
     "name": "stdout",
     "output_type": "stream",
     "text": [
      "det(A)= -5.000000000000001\n",
      "eigen values= [ 3.44948974 -1.44948974  1.        ]\n"
     ]
    }
   ],
   "source": [
    "A=np.matrix([[1,2,3],\n",
    "             [3,1,2],\n",
    "             [0,0,1]])\n",
    "print(\"det(A)=\",np.linalg.det(A))\n",
    "print(\"eigen values=\", np.linalg.eigvals(A))"
   ]
  },
  {
   "cell_type": "code",
   "execution_count": 5,
   "metadata": {},
   "outputs": [
    {
     "name": "stdout",
     "output_type": "stream",
     "text": [
      "(matrix([[-0.70301722,  0.65587512, -0.27494475],\n",
      "        [-0.69666933, -0.71281114,  0.08094516],\n",
      "        [-0.14289376,  0.24845141,  0.95804659]]), array([5.05078698, 1.78368312, 0.55500034]), matrix([[-0.55298812, -0.41631211, -0.72172596],\n",
      "        [-0.83117807,  0.33578784,  0.44315859],\n",
      "        [-0.05785452, -0.84494423,  0.53171618]]))\n"
     ]
    }
   ],
   "source": [
    "print(np.linalg.svd(A))"
   ]
  }
 ],
 "metadata": {
  "interpreter": {
   "hash": "aee8b7b246df8f9039afb4144a1f6fd8d2ca17a180786b69acc140d282b71a49"
  },
  "kernelspec": {
   "display_name": "Python 3.10.4 64-bit",
   "language": "python",
   "name": "python3"
  },
  "language_info": {
   "codemirror_mode": {
    "name": "ipython",
    "version": 3
   },
   "file_extension": ".py",
   "mimetype": "text/x-python",
   "name": "python",
   "nbconvert_exporter": "python",
   "pygments_lexer": "ipython3",
   "version": "3.11.0b3"
  },
  "orig_nbformat": 4
 },
 "nbformat": 4,
 "nbformat_minor": 2
}
