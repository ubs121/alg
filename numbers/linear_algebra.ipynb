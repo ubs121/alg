{
 "cells": [
  {
   "cell_type": "markdown",
   "metadata": {},
   "source": [
    "Vector addition and dot product"
   ]
  },
  {
   "cell_type": "code",
   "execution_count": 1,
   "metadata": {},
   "outputs": [
    {
     "name": "stdout",
     "output_type": "stream",
     "text": [
      "[ 6  8 10 12]\n",
      "2.732050807568877\n"
     ]
    }
   ],
   "source": [
    "import numpy as np\n",
    "\n",
    "# vector addition\n",
    "v1=np.array([1,2,3,4])\n",
    "v2=np.array([5,6,7,8])\n",
    "print(v1+v2)\n",
    "\n",
    "# inner product\n",
    "v1=np.array([[np.sqrt(3)], [1]])\n",
    "v2=np.array([[1],[1]])\n",
    "inner_res=np.vdot(v1,v2)\n",
    "print(inner_res)"
   ]
  },
  {
   "cell_type": "markdown",
   "metadata": {},
   "source": [
    "Determinant is volume. Determinant is the product of eigenvalues"
   ]
  },
  {
   "cell_type": "code",
   "execution_count": 4,
   "metadata": {},
   "outputs": [
    {
     "name": "stdout",
     "output_type": "stream",
     "text": [
      "det(A)= -5.000000000000001\n",
      "eigen values= [ 3.44948974 -1.44948974  1.        ]\n"
     ]
    }
   ],
   "source": [
    "A=np.matrix([[1,2,3],\n",
    "             [3,1,2],\n",
    "             [0,0,1]])\n",
    "print(\"det(A)=\",np.linalg.det(A))\n",
    "print(\"eigen values=\", np.linalg.eigvals(A))"
   ]
  },
  {
   "cell_type": "code",
   "execution_count": 5,
   "metadata": {},
   "outputs": [
    {
     "name": "stdout",
     "output_type": "stream",
     "text": [
      "(matrix([[-0.70301722,  0.65587512, -0.27494475],\n",
      "        [-0.69666933, -0.71281114,  0.08094516],\n",
      "        [-0.14289376,  0.24845141,  0.95804659]]), array([5.05078698, 1.78368312, 0.55500034]), matrix([[-0.55298812, -0.41631211, -0.72172596],\n",
      "        [-0.83117807,  0.33578784,  0.44315859],\n",
      "        [-0.05785452, -0.84494423,  0.53171618]]))\n"
     ]
    }
   ],
   "source": [
    "print(np.linalg.svd(A))"
   ]
  }
 ],
 "metadata": {
  "kernelspec": {
   "display_name": "Python 3.10.4 64-bit",
   "language": "python",
   "name": "python3"
  },
  "language_info": {
   "codemirror_mode": {
    "name": "ipython",
    "version": 3
   },
   "file_extension": ".py",
   "mimetype": "text/x-python",
   "name": "python",
   "nbconvert_exporter": "python",
   "pygments_lexer": "ipython3",
   "version": "3.10.4"
  },
  "orig_nbformat": 4,
  "vscode": {
   "interpreter": {
    "hash": "3ad933181bd8a04b432d3370b9dc3b0662ad032c4dfaa4e4f1596c548f763858"
   }
  }
 },
 "nbformat": 4,
 "nbformat_minor": 2
}
